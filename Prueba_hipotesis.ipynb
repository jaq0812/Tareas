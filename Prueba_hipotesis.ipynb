{
  "nbformat": 4,
  "nbformat_minor": 0,
  "metadata": {
    "colab": {
      "provenance": [],
      "authorship_tag": "ABX9TyPtBnWcX0b4cR8Lgy1p7WoT",
      "include_colab_link": true
    },
    "kernelspec": {
      "name": "python3",
      "display_name": "Python 3"
    },
    "language_info": {
      "name": "python"
    }
  },
  "cells": [
    {
      "cell_type": "markdown",
      "metadata": {
        "id": "view-in-github",
        "colab_type": "text"
      },
      "source": [
        "<a href=\"https://colab.research.google.com/github/jaq0812/Tareas/blob/main/Prueba_hipotesis.ipynb\" target=\"_parent\"><img src=\"https://colab.research.google.com/assets/colab-badge.svg\" alt=\"Open In Colab\"/></a>"
      ]
    },
    {
      "cell_type": "markdown",
      "source": [
        "# Pruebas de hipótesis\n",
        "\n",
        "Frida Jaqueline Chávez Arroyo\n",
        "\n",
        "05/07/2025"
      ],
      "metadata": {
        "id": "M8M6MV3pr0mp"
      }
    },
    {
      "cell_type": "markdown",
      "source": [
        " Ejemplo 5.7 (Prueba de hipótesis) Se elaboró un examen que consta de 10 preguntas de opción múltiple, en el cual cada pregunta tiene cinco respuestas diferentes, identificadas\n",
        " como a, b, c, d y e. Cuando este examen se aplica, se establece una prueba de hipótesis. En este ejemplo, vamos a identificar los elementos de una prueba de hipótesis.\n",
        "\n",
        ""
      ],
      "metadata": {
        "id": "5VNbicYisHbB"
      }
    },
    {
      "cell_type": "code",
      "execution_count": 1,
      "metadata": {
        "colab": {
          "base_uri": "https://localhost:8080/",
          "height": 0
        },
        "id": "H7rWtWemqUxc",
        "outputId": "e0c0b9d7-d465-483b-a76d-366602d5ed2f"
      },
      "outputs": [
        {
          "output_type": "stream",
          "name": "stdout",
          "text": [
            "Bajo H0 (estudiante no sabe): Probabilidad de acertar (p0) = 0.20\n",
            "Región critica (aprobar si la calificación es >= 6)\n",
            "\n",
            "Probabilidad de Error Tipo I (alfa): 0.0064\n",
            "(Probabilidad de aprobar al estudiante por azar cuando en realidad no sabe)\n",
            "\n",
            "Cclculo del Error Tipo II y Potencia para diferentes p bajo H1:\n",
            "  Si el estudiante sabe con p = 0.30:\n",
            "    Probabilidad de Error Tipo II: 0.9527\n",
            "    (Probabilidad de reprobar al estudiante cuando si sabe)\n",
            "    Potencia de la prueba (1 - beta): 0.0473\n",
            "\n",
            "  Si el estudiante sabe con p = 0.50:\n",
            "    Probabilidad de Error Tipo II: 0.6230\n",
            "    (Probabilidad de reprobar al estudiante cuando si sabe)\n",
            "    Potencia de la prueba (1 - beta): 0.3770\n",
            "\n",
            "  Si el estudiante sabe con p = 0.70:\n",
            "    Probabilidad de Error Tipo II: 0.1503\n",
            "    (Probabilidad de reprobar al estudiante cuando si sabe)\n",
            "    Potencia de la prueba (1 - beta): 0.8497\n",
            "\n"
          ]
        }
      ],
      "source": [
        "import numpy as np\n",
        "from scipy.stats import binom\n",
        "\n",
        "n_preguntas = 10\n",
        "n_opciones_por_pregunta = 5\n",
        "\n",
        "# Hipotesis Nula (H0): El estudiante no sabe (responde al azar)\n",
        "# p0 = probabilidad de éxito bajo H0\n",
        "p0 = 1 / n_opciones_por_pregunta\n",
        "print(f\"Bajo H0 (estudiante no sabe): Probabilidad de acertar (p0) = {p0:.2f}\")\n",
        "\n",
        "# región critica\n",
        "calificacion_critica = 6\n",
        "print(f\"Región critica (aprobar si la calificación es >= {calificacion_critica})\\n\")\n",
        "\n",
        "# probabilidad de Error Tipo I\n",
        "prob_error_tipo_I = 1 - binom.cdf(calificacion_critica - 1, n_preguntas, p0)\n",
        "\n",
        "print(f\"Probabilidad de Error Tipo I (alfa): {prob_error_tipo_I:.4f}\")\n",
        "print(f\"(Probabilidad de aprobar al estudiante por azar cuando en realidad no sabe)\\n\")\n",
        "\n",
        "\n",
        "# probabilidad de Error Tipo II y Potencia\n",
        "p_alternativos = [0.30, 0.50, 0.70]\n",
        "\n",
        "print(\"Cclculo del Error Tipo II y Potencia para diferentes p bajo H1:\")\n",
        "for p1 in p_alternativos:\n",
        "    # P[error tipo II] = P[c < 6 | p = p1]\n",
        "    prob_error_tipo_II = binom.cdf(calificacion_critica - 1, n_preguntas, p1)\n",
        "    potencia = 1 - prob_error_tipo_II\n",
        "\n",
        "    print(f\"  Si el estudiante sabe con p = {p1:.2f}:\")\n",
        "    print(f\"    Probabilidad de Error Tipo II: {prob_error_tipo_II:.4f}\")\n",
        "    print(f\"    (Probabilidad de reprobar al estudiante cuando si sabe)\")\n",
        "    print(f\"    Potencia de la prueba (1 - beta): {potencia:.4f}\\n\")\n"
      ]
    },
    {
      "cell_type": "markdown",
      "source": [
        "Ejemplo 5.8 (Prueba para la media de una población normal).Se sabe que las alturas delos individuos de una población, se distribuyen como una normal. Si se desea contrastar con un nivel de significación de α =0.05 si la altura media es diferente de 174 cm. Para ello nos basamos en un estudio en el que con una muestra se obtuvieron los siguientes resultados:\n",
        "\n",
        "(174.03, 154.00 , 170.53, 169.87, 157.48, 159.57, 175.17, 181.84,178.45, 183.98, 178.05, 165.18, 169.15, 169.41, 180.07, 159.07,178.48, 165.03, 171.74, 161.6 , 161.79, 185.27, 162.00 , 180.46,159.10)"
      ],
      "metadata": {
        "id": "u7Z0DC9nygR3"
      }
    },
    {
      "cell_type": "code",
      "source": [
        "import numpy as np\n",
        "from scipy import stats\n",
        "\n",
        "alturas = np.array([\n",
        "    174.03, 154.00, 170.53, 169.87, 157.48, 159.57, 175.17, 181.84, 178.45,\n",
        "    183.98, 178.05, 165.18, 169.15, 169.41, 180.07, 159.07, 178.48, 165.03,\n",
        "    171.74, 161.6, 161.79, 185.27, 162.00, 180.46, 159.10\n",
        "])\n",
        "\n",
        "mu_0 = 174 # Media\n",
        "nivel_significancia = 0.05\n",
        "\n",
        "n = len(alturas)\n",
        "media_muestral = np.mean(alturas)\n",
        "desviacion_estandar_muestral = np.std(alturas, ddof=1)\n",
        "grados_libertad = n - 1\n",
        "\n",
        "print(f\"Alturas: {alturas}\")\n",
        "print(f\"Numero de observaciones (n): {n}\")\n",
        "print(f\"Media: {media_muestral:.2f}\")\n",
        "print(f\"Desviación estandar: {desviacion_estandar_muestral:.2f}\")\n",
        "print(f\"Grados de libertad: {grados_libertad}\")\n",
        "print(f\"Media H0: {mu_0}\")\n",
        "print(f\"Nivel de significancia: {nivel_significancia}\\n\")\n",
        "\n",
        "t_estadistico = (media_muestral - mu_0) / (desviacion_estandar_muestral / np.sqrt(n))\n",
        "print(f\"Estadistico t: {t_estadistico:.3f}\\n\")\n",
        "\n",
        "t_critico = stats.t.ppf(1 - nivel_significancia / 2, df=grados_libertad)\n",
        "\n",
        "print(f\"Valor t critico (+/- t_alfa/2, df): +/-{t_critico:.3f}\")\n",
        "print(f\"Región de rechazo: t < -{t_critico:.3f} o t > {t_critico:.3f}\\n\")\n",
        "\n",
        "# Calculamos el p-valor\n",
        "p_valor = 2 * (1 - stats.t.cdf(abs(t_estadistico), df=grados_libertad))\n",
        "print(f\"Valor p: {p_valor:.4f}\\n\")\n",
        "\n",
        "if abs(t_estadistico) > t_critico: # O p_valor < nivel_significancia\n",
        "    print(\"Conclusion: Se RECHAZA la hipotesis nula (H0).\")\n",
        "    print(f\"Hay evidencia de que la altura media es diferente de {mu_0} cm al nivel de significancia de {nivel_significancia}.\")\n",
        "else:\n",
        "    print(\"Conclusión: NO se rechaza la hipotesis nula (H0).\")\n",
        "    print(f\"No hay evidencia suficiente para afirmar que la altura media es diferente de {mu_0} cm al nivel de significancia de {nivel_significancia}.\")\n"
      ],
      "metadata": {
        "colab": {
          "base_uri": "https://localhost:8080/",
          "height": 0
        },
        "id": "bgpaolA0yuT1",
        "outputId": "5e401d85-604e-4511-f3bf-d41dfa072f5b"
      },
      "execution_count": 7,
      "outputs": [
        {
          "output_type": "stream",
          "name": "stdout",
          "text": [
            "Alturas: [174.03 154.   170.53 169.87 157.48 159.57 175.17 181.84 178.45 183.98\n",
            " 178.05 165.18 169.15 169.41 180.07 159.07 178.48 165.03 171.74 161.6\n",
            " 161.79 185.27 162.   180.46 159.1 ]\n",
            "Numero de observaciones (n): 25\n",
            "Media: 170.05\n",
            "Desviación estandar: 9.23\n",
            "Grados de libertad: 24\n",
            "Media H0: 174\n",
            "Nivel de significancia: 0.05\n",
            "\n",
            "Estadistico t: -2.138\n",
            "\n",
            "Valor t critico (+/- t_alfa/2, df): +/-2.064\n",
            "Región de rechazo: t < -2.064 o t > 2.064\n",
            "\n",
            "Valor p: 0.0429\n",
            "\n",
            "Conclusion: Se RECHAZA la hipotesis nula (H0).\n",
            "Hay evidencia de que la altura media es diferente de 174 cm al nivel de significancia de 0.05.\n"
          ]
        }
      ]
    },
    {
      "cell_type": "markdown",
      "source": [
        "Ejemplo 5.9 (Prueba para la varianza de una población normal).\n",
        "\n",
        "Una empresa especializada en servicios de transporte aéreo para ejecutivos está decidida a proyectar una imagen de confiabilidad al garantizar la puntualidad de sus conductores en la terminal de llegada. El objetivo principal de la empresa es minimizar la variabilidad en los tiempos de llegada. En términos de la varianza de estos tiempos, la empresa ha implementado una estrategia específica con el fin de lograr que la varianza sea igual o inferior a 4 minutos. Para evaluar este objetivo, se ha tomado una muestra aleatoria de 24 llegadas. Los resultados de esta muestra indican que la varianza muestral es de 4.9, y se supone que los tiempos de llegada siguen una distribución normal. Con un nivel de significancia del 5%, se llevará a cabo un análisis para determinar si la empresa ha logrado cumplir con su objetivo."
      ],
      "metadata": {
        "id": "9AVu-hKDyxIe"
      }
    },
    {
      "cell_type": "code",
      "source": [
        "import numpy as np\n",
        "from scipy import stats\n",
        "\n",
        "n = 24 # muestra\n",
        "s_cuadrada = 4.9 # Var\n",
        "sigma0_cuadrada = 4 # Varianza bajo H0\n",
        "nivel_significancia = 0.05\n",
        "\n",
        "grados_libertad = n - 1\n",
        "\n",
        "print(f\"Muestra: {n}\")\n",
        "print(f\"Varianza(s^2): {s_cuadrada}\")\n",
        "print(f\"Varianza H0: {sigma0_cuadrada}\")\n",
        "print(f\"Grados de libertad: {grados_libertad}\")\n",
        "print(f\"Nivel de significancia: {nivel_significancia}\\n\")\n",
        "\n",
        "chi2_estadistico = ((n - 1) * s_cuadrada) / sigma0_cuadrada\n",
        "print(f\"Estadistico Chi-cuadrado de prueba: {chi2_estadistico:.3f}\\n\")\n",
        "\n",
        "# prueba de cola derecha\n",
        "chi2_critico = stats.chi2.ppf(1 - nivel_significancia, df=grados_libertad)\n",
        "\n",
        "print(f\"Valor Chi-cuadrado critico (chi2_alfa, df): {chi2_critico:.3f}\")\n",
        "print(f\"Región de rechazo: chi2 > {chi2_critico:.3f}\\n\")\n",
        "\n",
        "p_valor = 1 - stats.chi2.cdf(chi2_estadistico, df=grados_libertad)\n",
        "print(f\"Valor p: {p_valor:.4f}\\n\")\n",
        "\n",
        "if chi2_estadistico > chi2_critico: # O p_valor < nivel_significancia\n",
        "    print(\"Conclusión: Se RECHAZA la hipotesis nula (H0).\")\n",
        "    print(f\"Hay evidencia de que la varianza de los tiempos de llegada es MAYOR que {sigma0_cuadrada} minutos al nivel de significancia de {nivel_significancia}.\")\n",
        "    print(f\"La empresa NO ha logrado cumplir con su objetivo de que la varianza sea igual o inferior a {sigma0_cuadrada}.\")\n",
        "else:\n",
        "    print(\"Conclusión: NO se rechaza la hipotesis nula (H0).\")\n",
        "    print(f\"No hay evidencia suficiente para afirmar que la varianza de los tiempos de llegada es mayor que {sigma0_cuadrada} minutos al nivel de significancia de {nivel_significancia}.\")\n",
        "    print(f\"Se puede considerar que la empresa ha logrado cumplir con su objetivo.\")\n"
      ],
      "metadata": {
        "colab": {
          "base_uri": "https://localhost:8080/",
          "height": 0
        },
        "id": "G0kkpqDTy8y5",
        "outputId": "1b827c52-a635-466d-9019-f08ba9055a4f"
      },
      "execution_count": 5,
      "outputs": [
        {
          "output_type": "stream",
          "name": "stdout",
          "text": [
            "Muestra: 24\n",
            "Varianza(s^2): 4.9\n",
            "Varianza H0: 4\n",
            "Grados de libertad: 23\n",
            "Nivel de significancia: 0.05\n",
            "\n",
            "Estadistico Chi-cuadrado de prueba: 28.175\n",
            "\n",
            "Valor Chi-cuadrado critico (chi2_alfa, df): 35.172\n",
            "Región de rechazo: chi2 > 35.172\n",
            "\n",
            "Valor p: 0.2092\n",
            "\n",
            "Conclusión: NO se rechaza la hipotesis nula (H0).\n",
            "No hay evidencia suficiente para afirmar que la varianza de los tiempos de llegada es mayor que 4 minutos al nivel de significancia de 0.05.\n",
            "Se puede considerar que la empresa ha logrado cumplir con su objetivo.\n"
          ]
        }
      ]
    },
    {
      "cell_type": "markdown",
      "source": [
        "Ejemplo 5.10 (Prueba para dos poblaciones normales Para determinar si un nuevo suero tiene efectos en la detención de la leucemia, se lleva a cabo un estudio en el que se eligen nueve ratones, todos en una etapa avanzada de la enfermedad. De estos, cinco ratones son sometidos al tratamiento con el nuevo suero, mientras que los cuatro restantes no reciben ningún tratamiento. A continuación, se presentan los tiempos de supervivencia en años, desde el inicio del experimento:\n",
        "\n",
        " Con tratamiento: 2.1, 5.3, 1.4, 4.6, 0.9\n",
        "Sin tratamiento: 1.9, 0.5, 2.8, 3.1\n",
        "\n",
        "¿Podemos afirmar, con un nivel de significancia del 0.05, que el suero es efectivo? Realizamos esta suposición bajo la premisa de que ambas poblaciones se distribuyen de manera normal y tienen varianzas iguales."
      ],
      "metadata": {
        "id": "TArpmCnjy_nl"
      }
    },
    {
      "cell_type": "code",
      "source": [
        "import numpy as np\n",
        "from scipy import stats\n",
        "\n",
        "con_tratamiento = np.array([2.1, 5.3, 1.4, 4.6, 0.9])\n",
        "sin_tratamiento = np.array([1.9, 0.5, 2.8, 3.1])\n",
        "\n",
        "nivel_significancia = 0.05\n",
        "\n",
        "n1 = len(con_tratamiento)\n",
        "media1 = np.mean(con_tratamiento)\n",
        "var1 = np.var(con_tratamiento, ddof=1) # varianza 1\n",
        "\n",
        "n2 = len(sin_tratamiento)\n",
        "media2 = np.mean(sin_tratamiento)\n",
        "var2 = np.var(sin_tratamiento, ddof=1) # varianza 2\n",
        "\n",
        "print(f\"Con Tratamiento (n={n1}): Media = {media1:.2f}, Varianza = {var1:.2f}\")\n",
        "print(f\"Sin Tratamiento (n={n2}): Media = {media2:.2f}, Varianza = {var2:.2f}\\n\")\n",
        "\n",
        "# desviación estandar agrupada\n",
        "grados_libertad_agrupados = n1 + n2 - 2\n",
        "sp_cuadrada = ((n1 - 1) * var1 + (n2 - 1) * var2) / grados_libertad_agrupados\n",
        "sp = np.sqrt(sp_cuadrada)\n",
        "\n",
        "print(f\"Desviación estandar agrupada (Sp): {sp:.3f}\")\n",
        "print(f\"Grados de libertad: {grados_libertad_agrupados}\\n\")\n",
        "\n",
        "# estadistico t\n",
        "t_estadistico = (media1 - media2) / (sp * np.sqrt(1/n1 + 1/n2))\n",
        "print(f\"Estadistico t de prueba: {t_estadistico:.3f}\\n\")\n",
        "\n",
        "# prueba de cola derecha\n",
        "t_critico = stats.t.ppf(1 - nivel_significancia, df=grados_libertad_agrupados)\n",
        "\n",
        "print(f\"Valor t critico (t_alfa, df): {t_critico:.3f}\")\n",
        "print(f\"Región de rechazo: t > {t_critico:.3f}\\n\")\n",
        "\n",
        "p_valor = 1 - stats.t.cdf(t_estadistico, df=grados_libertad_agrupados)\n",
        "print(f\"Valor p: {p_valor:.4f}\\n\")\n",
        "\n",
        "if t_estadistico > t_critico: # O p_valor < nivel_significancia\n",
        "    print(\"Conclusión: Se RECHAZA la hipotesis nula (H0).\")\n",
        "    print(f\"Hay evidencia, al nivel de significancia de {nivel_significancia}, para afirmar que el suero es efectivo (el tiempo de supervivencia es mayor con tratamiento).\")\n",
        "else:\n",
        "    print(\"Conclusión: NO se rechaza la hipotesis nula (H0).\")\n",
        "    print(f\"No hay evidencia suficiente, al nivel de significancia de {nivel_significancia}, para afirmar que el suero es efectivo.\")\n"
      ],
      "metadata": {
        "colab": {
          "base_uri": "https://localhost:8080/",
          "height": 0
        },
        "id": "3FQueohgzQKH",
        "outputId": "37bca26b-4620-412e-f1c1-c3a767af434b"
      },
      "execution_count": 6,
      "outputs": [
        {
          "output_type": "stream",
          "name": "stdout",
          "text": [
            "Con Tratamiento (n=5): Media = 2.86, Varianza = 3.88\n",
            "Sin Tratamiento (n=4): Media = 2.07, Varianza = 1.36\n",
            "\n",
            "Desviación estandar agrupada (Sp): 1.674\n",
            "Grados de libertad: 7\n",
            "\n",
            "Estadistico t de prueba: 0.699\n",
            "\n",
            "Valor t critico (t_alfa, df): 1.895\n",
            "Región de rechazo: t > 1.895\n",
            "\n",
            "Valor p: 0.2536\n",
            "\n",
            "Conclusión: NO se rechaza la hipotesis nula (H0).\n",
            "No hay evidencia suficiente, al nivel de significancia de 0.05, para afirmar que el suero es efectivo.\n"
          ]
        }
      ]
    }
  ]
}